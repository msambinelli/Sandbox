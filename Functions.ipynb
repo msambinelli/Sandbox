{
 "cells": [
  {
   "cell_type": "markdown",
   "metadata": {},
   "source": [
    "# Transformações do gráfico de um função\n",
    "\n",
    "Neste tutorial vamos aprender como transformar o gráfico de uma função $f$.\n",
    "Para ilustrar o nosso exemplo, vamos usar a função\n",
    "$$\\varphi(x) = x^3 - 5x$$"
   ]
  },
  {
   "cell_type": "code",
   "execution_count": 9,
   "metadata": {},
   "outputs": [],
   "source": [
    "import ipywidgets as widgets"
   ]
  },
  {
   "cell_type": "markdown",
   "metadata": {},
   "source": [
    "## Movendo o gráfico para cima e para baixo\n",
    "\n",
    "Seja $f$ uma função e $c > 0$ uma constante. Defina as funções $g$ e $H$ por\n",
    "\n",
    "$$g(x) = f(x) + c \\textrm{ e } h(x) = f(x) - c$$\n",
    "\n",
    "Então\n",
    "\n",
    "- o gráfico de $g$ é obtido transladando o gráfico de $f$ $c$ unidades para cima\n",
    "- o gráfico de $h$ é obtido transladando o gráfico de $f$ $c$ unidades para baixo\n",
    "\n",
    "### Exemplo\n",
    "\n",
    "Veja o gráfico da função $g(x)$ definida como:\n",
    "\n",
    "$$g(x) = \\varphi(x) + c$$\n",
    "\n",
    "\n"
   ]
  },
  {
   "cell_type": "code",
   "execution_count": 9,
   "metadata": {
    "jupyter": {
     "source_hidden": true
    }
   },
   "outputs": [
    {
     "data": {
      "application/vnd.jupyter.widget-view+json": {
       "model_id": "076ce555a0e848ffbc0ba7d4838e2d72",
       "version_major": 2,
       "version_minor": 0
      },
      "text/plain": [
       "Interactive function <function contraindo_verticalmente at 0x7f82e89a6b80> with 1 widget\n",
       "  c: FloatSlider(valu…"
      ]
     },
     "metadata": {},
     "output_type": "display_data"
    }
   ],
   "source": [
    "%matplotlib widget\n",
    "import matplotlib.pyplot as plt\n",
    "import numpy as np\n",
    "\n",
    "@interact(c=(-10, 10, .1))\n",
    "def contraindo_verticalmente(c=1):\n",
    "    plt.figure(1)\n",
    "    plt.clf()\n",
    "    plt.grid()\n",
    "    x = np.linspace(-10, 10, num=1000)\n",
    "    plt.plot(x, x^3 -5*x + c)\n",
    "    plt.ylim(-10, 10)\n",
    "    plt.show()"
   ]
  },
  {
   "cell_type": "code",
   "execution_count": 7,
   "metadata": {},
   "outputs": [
    {
     "data": {
      "application/vnd.jupyter.widget-view+json": {
       "model_id": "33afc22aa0a34e50b4f53b02a2d0893b",
       "version_major": 2,
       "version_minor": 0
      },
      "text/plain": [
       "Interactive function <function contraindo_verticalmente at 0x7f82e88b54c0> with 1 widget\n",
       "  c: FloatSlider(valu…"
      ]
     },
     "metadata": {},
     "output_type": "display_data"
    }
   ],
   "source": [
    "%matplotlib widget\n",
    "import matplotlib.pyplot as plt\n",
    "import numpy as np\n",
    "\n",
    "@interact(c=(-10, 10, .1))\n",
    "def contraindo_verticalmente(c=1):\n",
    "    plt.figure(2)\n",
    "    plt.clf()\n",
    "    plt.grid()\n",
    "    x = np.linspace(-10, 10, num=1000)\n",
    "    plt.plot(x, (x + c)^3 -5*(x + c))\n",
    "    plt.ylim(-10, 10)\n",
    "    plt.show()"
   ]
  },
  {
   "cell_type": "code",
   "execution_count": 4,
   "metadata": {},
   "outputs": [
    {
     "data": {
      "application/vnd.jupyter.widget-view+json": {
       "model_id": "c19b408039614ac4b4bd98cf152fd0d8",
       "version_major": 2,
       "version_minor": 0
      },
      "text/plain": [
       "Interactive function <function contraindo_verticalmente at 0x7f82e8c6dd30> with 1 widget\n",
       "  c: FloatSlider(valu…"
      ]
     },
     "metadata": {},
     "output_type": "display_data"
    }
   ],
   "source": [
    "%matplotlib widget\n",
    "import matplotlib.pyplot as plt\n",
    "import numpy as np\n",
    "\n",
    "@interact(c=(.1, 10, .1))\n",
    "def contraindo_verticalmente(c=1):\n",
    "    plt.figure(3)\n",
    "    plt.clf()\n",
    "    plt.grid()\n",
    "    x = np.linspace(-10, 10, num=1000)\n",
    "    plt.plot(x, c*(x^3 -5*x))\n",
    "    plt.ylim(-10, 10)\n",
    "    plt.show()\n"
   ]
  },
  {
   "cell_type": "code",
   "execution_count": 5,
   "metadata": {},
   "outputs": [
    {
     "data": {
      "application/vnd.jupyter.widget-view+json": {
       "model_id": "82cb23b267604df9abc92a1a936009ba",
       "version_major": 2,
       "version_minor": 0
      },
      "text/plain": [
       "Interactive function <function contraindo_horizontalmente at 0x7f82e88acf70> with 1 widget\n",
       "  d: FloatSlider(va…"
      ]
     },
     "metadata": {},
     "output_type": "display_data"
    }
   ],
   "source": [
    "%matplotlib widget\n",
    "import matplotlib.pyplot as plt2\n",
    "import numpy as np\n",
    "\n",
    "@interact(d=(.1, 10, .1))\n",
    "def contraindo_horizontalmente(d=1):\n",
    "    plt2.figure(4)\n",
    "    plt2.clf()\n",
    "    plt2.grid()\n",
    "    x = np.linspace(-10, 10, num=1000)\n",
    "    plt2.plot(x, (d*x)^3 -5*(d*x))\n",
    "    plt2.ylim(-10, 10)\n",
    "    plt2.show()\n"
   ]
  },
  {
   "cell_type": "code",
   "execution_count": null,
   "metadata": {},
   "outputs": [],
   "source": []
  },
  {
   "cell_type": "code",
   "execution_count": null,
   "metadata": {},
   "outputs": [],
   "source": []
  },
  {
   "cell_type": "code",
   "execution_count": null,
   "metadata": {},
   "outputs": [],
   "source": []
  }
 ],
 "metadata": {
  "kernelspec": {
   "display_name": "SageMath 9.2",
   "language": "sage",
   "name": "sagemath"
  },
  "language_info": {
   "codemirror_mode": {
    "name": "ipython",
    "version": 3
   },
   "file_extension": ".py",
   "mimetype": "text/x-python",
   "name": "python",
   "nbconvert_exporter": "python",
   "pygments_lexer": "ipython3",
   "version": "3.8.5"
  }
 },
 "nbformat": 4,
 "nbformat_minor": 4
}

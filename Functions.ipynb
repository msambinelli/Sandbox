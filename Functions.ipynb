{
 "cells": [
  {
   "cell_type": "markdown",
   "metadata": {},
   "source": [
    "# Transformações do gráfico de um função\n",
    "\n",
    "Neste tutorial vamos aprender como transformar o gráfico de uma função $f$.\n",
    "Para ilustrar o nosso exemplo, vamos usar a função\n",
    "$$\\varphi(x) = x^3 - 5x$$"
   ]
  },
  {
   "cell_type": "code",
   "execution_count": 12,
   "metadata": {},
   "outputs": [],
   "source": [
    "import ipywidgets as widgets\n",
    "from ipywidgets import interact, interactive, fixed, interact_manual\n",
    "import ipywidgets as widgets"
   ]
  },
  {
   "cell_type": "markdown",
   "metadata": {},
   "source": [
    "## Movendo o gráfico para cima e para baixo\n",
    "\n",
    "Seja $f$ uma função e $c > 0$ uma constante. Defina as funções $g$ e $H$ por\n",
    "\n",
    "$$g(x) = f(x) + c \\textrm{ e } h(x) = f(x) - c$$\n",
    "\n",
    "Então\n",
    "\n",
    "- o gráfico de $g$ é obtido transladando o gráfico de $f$ $c$ unidades para cima\n",
    "- o gráfico de $h$ é obtido transladando o gráfico de $f$ $c$ unidades para baixo\n",
    "\n",
    "### Exemplo\n",
    "\n",
    "Veja o gráfico da função $g(x)$ definida como:\n",
    "\n",
    "$$g(x) = \\varphi(x) + c$$\n",
    "\n",
    "\n"
   ]
  },
  {
   "cell_type": "code",
   "execution_count": 13,
   "metadata": {},
   "outputs": [
    {
     "data": {
      "application/vnd.jupyter.widget-view+json": {
       "model_id": "1e8fa2bf824343849258f682c19d8244",
       "version_major": 2,
       "version_minor": 0
      },
      "text/plain": [
       "interactive(children=(FloatSlider(value=1.0, description='c', max=10.0, min=-10.0), Output()), _dom_classes=('…"
      ]
     },
     "metadata": {},
     "output_type": "display_data"
    }
   ],
   "source": [
    "%matplotlib widget\n",
    "import matplotlib.pyplot as plt\n",
    "import numpy as np\n",
    "\n",
    "@interact(c=(-10, 10, .1))\n",
    "def contraindo_verticalmente(c=1):\n",
    "    plt.figure(1)\n",
    "    plt.clf()\n",
    "    plt.grid()\n",
    "    x = np.linspace(-10, 10, num=1000)\n",
    "    plt.plot(x, x**3 -5*x + c)\n",
    "    plt.ylim(-10, 10)\n",
    "    plt.show()"
   ]
  },
  {
   "cell_type": "code",
   "execution_count": 14,
   "metadata": {},
   "outputs": [
    {
     "data": {
      "application/vnd.jupyter.widget-view+json": {
       "model_id": "93648c433ff24aa4b57850716eab0c4d",
       "version_major": 2,
       "version_minor": 0
      },
      "text/plain": [
       "interactive(children=(FloatSlider(value=1.0, description='c', max=10.0, min=-10.0), Output()), _dom_classes=('…"
      ]
     },
     "metadata": {},
     "output_type": "display_data"
    }
   ],
   "source": [
    "%matplotlib widget\n",
    "import matplotlib.pyplot as plt\n",
    "import numpy as np\n",
    "\n",
    "@interact(c=(-10, 10, .1))\n",
    "def contraindo_verticalmente(c=1):\n",
    "    plt.figure(2)\n",
    "    plt.clf()\n",
    "    plt.grid()\n",
    "    x = np.linspace(-10, 10, num=1000)\n",
    "    plt.plot(x, (x + c)**3 -5*(x + c))\n",
    "    plt.ylim(-10, 10)\n",
    "    plt.show()"
   ]
  },
  {
   "cell_type": "code",
   "execution_count": 15,
   "metadata": {},
   "outputs": [
    {
     "data": {
      "application/vnd.jupyter.widget-view+json": {
       "model_id": "7b382003e88a4fae87b6a9b715f411e1",
       "version_major": 2,
       "version_minor": 0
      },
      "text/plain": [
       "interactive(children=(FloatSlider(value=1.0, description='c', max=10.0, min=0.1), Output()), _dom_classes=('wi…"
      ]
     },
     "metadata": {},
     "output_type": "display_data"
    }
   ],
   "source": [
    "%matplotlib widget\n",
    "import matplotlib.pyplot as plt\n",
    "import numpy as np\n",
    "\n",
    "@interact(c=(.1, 10, .1))\n",
    "def contraindo_verticalmente(c=1):\n",
    "    plt.figure(3)\n",
    "    plt.clf()\n",
    "    plt.grid()\n",
    "    x = np.linspace(-10, 10, num=1000)\n",
    "    plt.plot(x, c*(x**3 -5*x))\n",
    "    plt.ylim(-10, 10)\n",
    "    plt.show()\n"
   ]
  },
  {
   "cell_type": "code",
   "execution_count": 16,
   "metadata": {},
   "outputs": [
    {
     "data": {
      "application/vnd.jupyter.widget-view+json": {
       "model_id": "4f7742cd9d474d54ba7939bb53dc370e",
       "version_major": 2,
       "version_minor": 0
      },
      "text/plain": [
       "interactive(children=(FloatSlider(value=1.0, description='d', max=10.0, min=0.1), Output()), _dom_classes=('wi…"
      ]
     },
     "metadata": {},
     "output_type": "display_data"
    }
   ],
   "source": [
    "%matplotlib widget\n",
    "import matplotlib.pyplot as plt2\n",
    "import numpy as np\n",
    "\n",
    "@interact(d=(.1, 10, .1))\n",
    "def contraindo_horizontalmente(d=1):\n",
    "    plt2.figure(4)\n",
    "    plt2.clf()\n",
    "    plt2.grid()\n",
    "    x = np.linspace(-10, 10, num=1000)\n",
    "    plt2.plot(x, (d*x)**3 -5*(d*x))\n",
    "    plt2.ylim(-10, 10)\n",
    "    plt2.show()\n"
   ]
  }
 ],
 "metadata": {
  "kernelspec": {
   "display_name": "Python 3",
   "language": "python",
   "name": "python3"
  },
  "language_info": {
   "codemirror_mode": {
    "name": "ipython",
    "version": 3
   },
   "file_extension": ".py",
   "mimetype": "text/x-python",
   "name": "python",
   "nbconvert_exporter": "python",
   "pygments_lexer": "ipython3",
   "version": "3.8.5"
  }
 },
 "nbformat": 4,
 "nbformat_minor": 4
}

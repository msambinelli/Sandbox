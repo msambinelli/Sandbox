{
 "cells": [
  {
   "cell_type": "code",
   "execution_count": 9,
   "metadata": {},
   "outputs": [],
   "source": [
    "import ipywidgets as widgets"
   ]
  },
  {
   "cell_type": "code",
   "execution_count": 12,
   "metadata": {},
   "outputs": [
    {
     "data": {
      "application/vnd.jupyter.widget-view+json": {
       "model_id": "d6fe8167d8cb42e6a2d7aff32d4142b4",
       "version_major": 2,
       "version_minor": 0
      },
      "text/plain": [
       "Interactive function <function contraindo_verticalmente at 0x7f0c422a8a60> with 1 widget\n",
       "  c: FloatSlider(valu…"
      ]
     },
     "metadata": {},
     "output_type": "display_data"
    }
   ],
   "source": [
    "%matplotlib widget\n",
    "import matplotlib.pyplot as plt\n",
    "import numpy as np\n",
    "\n",
    "@interact(c=(-5, 5, .1))\n",
    "def contraindo_verticalmente(c=1):\n",
    "    plt.figure(2)\n",
    "    plt.clf()\n",
    "    plt.grid()\n",
    "    x = np.linspace(-10, 10, num=1000)\n",
    "    plt.plot(x, c*(x^3 -5*x))\n",
    "    plt.ylim(-10, 10)\n",
    "    plt.show()\n"
   ]
  },
  {
   "cell_type": "code",
   "execution_count": 11,
   "metadata": {},
   "outputs": [
    {
     "data": {
      "application/vnd.jupyter.widget-view+json": {
       "model_id": "792d5d9fc18a46009c733b423607c8f3",
       "version_major": 2,
       "version_minor": 0
      },
      "text/plain": [
       "Interactive function <function contraindo_horizontalmente at 0x7f0c42390040> with 1 widget\n",
       "  d: FloatSlider(va…"
      ]
     },
     "metadata": {},
     "output_type": "display_data"
    }
   ],
   "source": [
    "%matplotlib widget\n",
    "import matplotlib.pyplot as plt2\n",
    "import numpy as np\n",
    "\n",
    "@interact(d=(-5, 5, .1))\n",
    "def contraindo_horizontalmente(d=1):\n",
    "    plt2.figure(2)\n",
    "    plt2.clf()\n",
    "    plt2.grid()\n",
    "    x = np.linspace(-10, 10, num=1000)\n",
    "    plt2.plot(x, (d*x)^3 -5*(d*x))\n",
    "    plt2.ylim(-10, 10)\n",
    "    plt2.show()\n"
   ]
  },
  {
   "cell_type": "code",
   "execution_count": null,
   "metadata": {},
   "outputs": [],
   "source": []
  },
  {
   "cell_type": "code",
   "execution_count": null,
   "metadata": {},
   "outputs": [],
   "source": []
  },
  {
   "cell_type": "code",
   "execution_count": null,
   "metadata": {},
   "outputs": [],
   "source": []
  }
 ],
 "metadata": {
  "kernelspec": {
   "display_name": "SageMath 9.2",
   "language": "sage",
   "name": "sagemath"
  },
  "language_info": {
   "codemirror_mode": {
    "name": "ipython",
    "version": 3
   },
   "file_extension": ".py",
   "mimetype": "text/x-python",
   "name": "python",
   "nbconvert_exporter": "python",
   "pygments_lexer": "ipython3",
   "version": "3.8.5"
  }
 },
 "nbformat": 4,
 "nbformat_minor": 4
}
